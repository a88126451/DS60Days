{
 "cells": [
  {
   "cell_type": "markdown",
   "metadata": {},
   "source": [
    "# 1. 在速度較慢的時候，可以先從哪邊開始檢查？\n",
    "> - 讀取資料型態選最快速的\n",
    "> - 多使用內建函數\n",
    "> - 向量化資料處理\n",
    "\n",
    "# 2. 資料過大時應採取什麼方式讓記憶體占用量下降？\n",
    "> __downcast__\n",
    "> - int > uint \n",
    "> - float64 > float32"
   ]
  },
  {
   "cell_type": "code",
   "execution_count": null,
   "metadata": {},
   "outputs": [],
   "source": []
  }
 ],
 "metadata": {
  "kernelspec": {
   "display_name": "Python 3",
   "language": "python",
   "name": "python3"
  },
  "language_info": {
   "codemirror_mode": {
    "name": "ipython",
    "version": 3
   },
   "file_extension": ".py",
   "mimetype": "text/x-python",
   "name": "python",
   "nbconvert_exporter": "python",
   "pygments_lexer": "ipython3",
   "version": "3.8.5"
  }
 },
 "nbformat": 4,
 "nbformat_minor": 4
}
